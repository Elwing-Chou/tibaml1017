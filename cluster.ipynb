{
  "nbformat": 4,
  "nbformat_minor": 0,
  "metadata": {
    "colab": {
      "provenance": [],
      "authorship_tag": "ABX9TyNOZWwYXvS5h0fwiOUOGTo+",
      "include_colab_link": true
    },
    "kernelspec": {
      "name": "python3",
      "display_name": "Python 3"
    },
    "language_info": {
      "name": "python"
    }
  },
  "cells": [
    {
      "cell_type": "markdown",
      "metadata": {
        "id": "view-in-github",
        "colab_type": "text"
      },
      "source": [
        "<a href=\"https://colab.research.google.com/github/Elwing-Chou/tibaml1017/blob/main/cluster.ipynb\" target=\"_parent\"><img src=\"https://colab.research.google.com/assets/colab-badge.svg\" alt=\"Open In Colab\"/></a>"
      ]
    },
    {
      "cell_type": "code",
      "execution_count": null,
      "metadata": {
        "id": "qKVlmOVQAvoq"
      },
      "outputs": [],
      "source": [
        "import pandas as pd\n",
        "from sklearn.datasets import load_iris\n",
        "iris = load_iris()\n",
        "df = pd.DataFrame(iris[\"data\"], columns=iris[\"feature_names\"])\n",
        "df"
      ]
    },
    {
      "cell_type": "code",
      "source": [
        "from sklearn.cluster import KMeans\n",
        "cluster = KMeans(n_clusters=3)\n",
        "cluster.fit(df)"
      ],
      "metadata": {
        "colab": {
          "base_uri": "https://localhost:8080/"
        },
        "id": "qWInC6DEC71d",
        "outputId": "f7be9a97-efbf-45c0-93fb-83aeb184ab16"
      },
      "execution_count": 3,
      "outputs": [
        {
          "output_type": "execute_result",
          "data": {
            "text/plain": [
              "KMeans(n_clusters=3)"
            ]
          },
          "metadata": {},
          "execution_count": 3
        }
      ]
    },
    {
      "cell_type": "code",
      "source": [
        "# 我會把分群完的答案存起來\n",
        "# 分群: 自己依照題目相似度推測答案\n",
        "df[\"labels\"] = cluster.labels_\n",
        "df"
      ],
      "metadata": {
        "id": "mxbNLligDfcr"
      },
      "execution_count": null,
      "outputs": []
    },
    {
      "cell_type": "code",
      "source": [
        "cluster.cluster_centers_"
      ],
      "metadata": {
        "colab": {
          "base_uri": "https://localhost:8080/"
        },
        "id": "NN_aWAGiEWKr",
        "outputId": "751536be-f7d1-471c-cbdc-6b77ef61ba95"
      },
      "execution_count": 6,
      "outputs": [
        {
          "output_type": "execute_result",
          "data": {
            "text/plain": [
              "array([[5.006     , 3.428     , 1.462     , 0.246     ],\n",
              "       [5.9016129 , 2.7483871 , 4.39354839, 1.43387097],\n",
              "       [6.85      , 3.07368421, 5.74210526, 2.07105263]])"
            ]
          },
          "metadata": {},
          "execution_count": 6
        }
      ]
    },
    {
      "cell_type": "code",
      "source": [
        "# 未知K: 把所有K試過一遍, 看每一個k選完的親疏程度\n",
        "from sklearn.metrics import silhouette_score\n",
        "for testk in range(2, 20):\n",
        "    testcluster = KMeans(n_clusters=testk)\n",
        "    testcluster.fit(iris[\"data\"])\n",
        "    score = silhouette_score(iris[\"data\"], testcluster.labels_)\n",
        "    print(testk, score)"
      ],
      "metadata": {
        "colab": {
          "base_uri": "https://localhost:8080/"
        },
        "id": "PQ-jSXMcOz98",
        "outputId": "c21d42c8-3546-435a-ec94-9e4c5448afad"
      },
      "execution_count": 9,
      "outputs": [
        {
          "output_type": "stream",
          "name": "stdout",
          "text": [
            "2 0.6810461692117462\n",
            "3 0.5528190123564095\n",
            "4 0.49805050499728737\n",
            "5 0.48874888709310566\n",
            "6 0.36483400396700255\n",
            "7 0.3528198099033331\n",
            "8 0.3500602959686737\n",
            "9 0.3342968430937109\n",
            "10 0.3084365940016781\n",
            "11 0.30209403444936955\n",
            "12 0.2897741941397821\n",
            "13 0.2977891266580022\n",
            "14 0.2976973303972423\n",
            "15 0.275215331495561\n",
            "16 0.29881880593556204\n",
            "17 0.26557508651544726\n",
            "18 0.2938684218269152\n",
            "19 0.275695649015947\n"
          ]
        }
      ]
    }
  ]
}