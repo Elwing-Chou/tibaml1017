{
  "nbformat": 4,
  "nbformat_minor": 0,
  "metadata": {
    "colab": {
      "provenance": [],
      "authorship_tag": "ABX9TyOGqsA5u66AQQRFQHu1dRx9",
      "include_colab_link": true
    },
    "kernelspec": {
      "name": "python3",
      "display_name": "Python 3"
    },
    "language_info": {
      "name": "python"
    }
  },
  "cells": [
    {
      "cell_type": "markdown",
      "metadata": {
        "id": "view-in-github",
        "colab_type": "text"
      },
      "source": [
        "<a href=\"https://colab.research.google.com/github/Elwing-Chou/tibaml1017/blob/main/draw.ipynb\" target=\"_parent\"><img src=\"https://colab.research.google.com/assets/colab-badge.svg\" alt=\"Open In Colab\"/></a>"
      ]
    },
    {
      "cell_type": "code",
      "execution_count": null,
      "metadata": {
        "colab": {
          "base_uri": "https://localhost:8080/",
          "height": 300
        },
        "id": "YTb56DCOnMqM",
        "outputId": "179bd993-c0ef-4989-d2a4-463edee39137"
      },
      "outputs": [
        {
          "output_type": "stream",
          "name": "stdout",
          "text": [
            "0.7000000000000001 0.8812908992306925\n"
          ]
        },
        {
          "output_type": "execute_result",
          "data": {
            "text/plain": [
              "[<matplotlib.lines.Line2D at 0x7ff13c3161d0>]"
            ]
          },
          "metadata": {},
          "execution_count": 3
        },
        {
          "output_type": "display_data",
          "data": {
            "text/plain": [
              "<Figure size 432x288 with 1 Axes>"
            ],
            "image/png": "[encoded data removed]"
          },
          "metadata": {
            "needs_background": "light"
          }
        }
      ],
      "source": [
        "import matplotlib.pyplot as plt\n",
        "import math\n",
        "\n",
        "p1 = 0.7\n",
        "p2 = 1 - p1\n",
        "\n",
        "xs = []\n",
        "ys = []\n",
        "intervals = 0.001\n",
        "\n",
        "minp, minv = None, float(\"inf\")\n",
        "for i in range(998):\n",
        "    q1 = (i + 1) * intervals\n",
        "    q2 = 1 - q1\n",
        "    xs.append(q1)\n",
        "    ans = p1 * math.log(1/q1, 2) + p2 * math.log(1/q2, 2)\n",
        "    ys.append(ans)\n",
        "    if ans < minv:\n",
        "        minp, minv = q1, ans\n",
        "print(minp, minv)\n",
        "plt.plot(xs, ys)"
      ]
    },
    {
      "cell_type": "code",
      "source": [
        "\n",
        "p1 = 0.7\n",
        "p2 = 1 - p1\n",
        "\n",
        "xs = []\n",
        "ys = []\n",
        "intervals = 0.001\n",
        "\n",
        "minp, minv = None, float(\"inf\")\n",
        "for i in range(998):\n",
        "    q1 = (i + 1) * intervals\n",
        "    q2 = 1 - q1\n",
        "    xs.append(q1)\n",
        "    ans = p1 * (1 - q1) + p2 * (1 - q2)\n",
        "    ys.append(ans)\n",
        "    if ans < minv:\n",
        "        minp, minv = q1, ans\n",
        "print(minp, minv)\n",
        "plt.plot(xs, ys)"
      ],
      "metadata": {
        "colab": {
          "base_uri": "https://localhost:8080/",
          "height": 300
        },
        "id": "esnxtfWrouFG",
        "outputId": "656bba2c-79e6-4cdf-d6d0-7194e152e3ab"
      },
      "execution_count": null,
      "outputs": [
        {
          "output_type": "stream",
          "name": "stdout",
          "text": [
            "0.998 0.30080000000000007\n"
          ]
        },
        {
          "output_type": "execute_result",
          "data": {
            "text/plain": [
              "[<matplotlib.lines.Line2D at 0x7ff13c2f8e10>]"
            ]
          },
          "metadata": {},
          "execution_count": 4
        },
        {
          "output_type": "display_data",
          "data": {
            "text/plain": [
              "<Figure size 432x288 with 1 Axes>"
            ],
            "image/png": "[encoded data removed]"
          },
          "metadata": {
            "needs_background": "light"
          }
        }
      ]
    }
  ]
}