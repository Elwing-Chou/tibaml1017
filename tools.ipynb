{
  "nbformat": 4,
  "nbformat_minor": 0,
  "metadata": {
    "colab": {
      "provenance": [],
      "authorship_tag": "ABX9TyN3qALI8AgTmS7QPzlwMsmY",
      "include_colab_link": true
    },
    "kernelspec": {
      "name": "python3",
      "display_name": "Python 3"
    },
    "language_info": {
      "name": "python"
    }
  },
  "cells": [
    {
      "cell_type": "markdown",
      "metadata": {
        "id": "view-in-github",
        "colab_type": "text"
      },
      "source": [
        "<a href=\"https://colab.research.google.com/github/Elwing-Chou/tibaml1017/blob/main/tools.ipynb\" target=\"_parent\"><img src=\"https://colab.research.google.com/assets/colab-badge.svg\" alt=\"Open In Colab\"/></a>"
      ]
    },
    {
      "cell_type": "code",
      "execution_count": null,
      "metadata": {
        "id": "Up-hJJ6qxNOX"
      },
      "outputs": [],
      "source": [
        "!pip install opencc-python-reimplemented"
      ]
    },
    {
      "cell_type": "code",
      "source": [
        "from opencc import OpenCC\n",
        "cc = OpenCC(\"s2tw\")  # convert from Simplified Chinese to Traditional Chinese\n",
        "to_convert = \"\"\"繁体中文。\n",
        "为什么会觉得烦呢？也许让我们学写繁体中文的话，我们可能会烦。\n",
        "主要看所处的环境。\n",
        "如果楼主从一出生就学的是繁体中文的话，现在让你学写简体中文，你也会烦的。如果一个英语为母语的国家，让他们的人民学中文，不管是繁体还是简体都会烦。\n",
        "要你用你的纯母语来书写，应该是最顺手的吧\"\"\"\n",
        "converted = cc.convert(to_convert)\n",
        "converted"
      ],
      "metadata": {
        "colab": {
          "base_uri": "https://localhost:8080/",
          "height": 70
        },
        "id": "6ZGIhVy7xxH2",
        "outputId": "8e2e4f8c-edb1-4002-a9cf-321dd6ef44ee"
      },
      "execution_count": 3,
      "outputs": [
        {
          "output_type": "execute_result",
          "data": {
            "text/plain": [
              "'繁體中文。\\n為什麼會覺得煩呢？也許讓我們學寫繁體中文的話，我們可能會煩。\\n主要看所處的環境。\\n如果樓主從一出生就學的是繁體中文的話，現在讓你學寫簡體中文，你也會煩的。如果一個英語為母語的國家，讓他們的人民學中文，不管是繁體還是簡體都會煩。\\n要你用你的純母語來書寫，應該是最順手的吧'"
            ],
            "application/vnd.google.colaboratory.intrinsic+json": {
              "type": "string"
            }
          },
          "metadata": {},
          "execution_count": 3
        }
      ]
    },
    {
      "cell_type": "code",
      "source": [
        "import jieba\n",
        "from urllib.request import urlretrieve\n",
        "\n",
        "url = \"https://github.com/fxsjy/jieba/raw/master/extra_dict/dict.txt.big\"\n",
        "urlretrieve(url, \"dict.big\")\n",
        "jieba.set_dictionary(\"dict.big\")\n",
        "jieba.load_userdict(\"dict.my\")\n",
        "\n",
        "with open(\"文章.txt\", \"r\", encoding=\"utf-8\") as f:\n",
        "    news = f.read()\n",
        "\" \".join(jieba.cut(news))"
      ],
      "metadata": {
        "colab": {
          "base_uri": "https://localhost:8080/",
          "height": 400
        },
        "id": "pZ8klO-i1JFm",
        "outputId": "c3035c0c-43ae-4e32-dfac-46c675152461"
      },
      "execution_count": 7,
      "outputs": [
        {
          "output_type": "stream",
          "name": "stderr",
          "text": [
            "Building prefix dict from /content/dict.big ...\n",
            "DEBUG:jieba:Building prefix dict from /content/dict.big ...\n",
            "Dumping model to file cache /tmp/jieba.u07306b11e64fa1786267fcd71f361dde.cache\n",
            "DEBUG:jieba:Dumping model to file cache /tmp/jieba.u07306b11e64fa1786267fcd71f361dde.cache\n",
            "Loading model cost 1.972 seconds.\n",
            "DEBUG:jieba:Loading model cost 1.972 seconds.\n",
            "Prefix dict has been built successfully.\n",
            "DEBUG:jieba:Prefix dict has been built successfully.\n"
          ]
        },
        {
          "output_type": "execute_result",
          "data": {
            "text/plain": [
              "'不滿 中國 利用 人頭 帳戶 干涉 維基百科 條目 ， 全球 最大 駭客 組織 「 匿名者 」 （ Anonymous ） 上 週六 （ 10 月 29 日 ） 駭入 中國 應急 管理部 及 北京 「 微納 星空 」 （ Mino   Space   ） 衛星 科技 公司 官網 ， 張貼 台灣 國旗 與 總統 蔡英文 、 「 習維尼 」 等 嘲諷 中國 的 照片 ， 還 留下 「 打倒 習近平 、 恢復 中華民國 」 等 文字 。 \\n \\n 「 匿名者 」 突襲 了 中國 應急 管理部 官網 ， 並發布 了 其 內容 管理系統 （ CMS ） 的 受損 目錄 頁面 ， 隨後 該網 還有 19 個 其他 頁面 遭到 入侵 ， 放 上 蔡英文 總統 、 天安門 事件 、 習維尼 以及 李文亮 醫生 及 圖博 雪山 獅子 旗 等 照片 ， 網站 中 有關 中國 應急 管理 的 工作 任務 與 目標 ， 內容 都 被 改成 「 台灣 南波 萬 」 （ Taiwan   Nambah   Wan ， 台灣 第一 ） 、 「 打倒 習近平 、 恢復 中華民國 」 等 文字 ； 此外 ， 北京 「 微納 星空 」 衛星 科技 公司 的 網站 也 遭到 了 3 次 攻擊 。 \\n \\n 「 匿名者 」 是 為 了 報復 所謂 「 中國 特工 」 在 維基百科 大量 刪除 其 活動 條目 。 據 《 英文 台灣 日報 》 （ Taiwan   News ） 報導 ， 9 月 下旬 ， 「 匿名者 」 知名 駭客 賽博 安納金 （ Cyber   Anakin ） 在 維基百科 的 頁面 爆發 一場 編輯 戰 。 「 匿名者 」 代號 「 阿納 金之怒 行動 ： 無暇 赴死 」 （ Operation   Wrath   of   Anakin :   No   Time   to   Die ） 行動 ， 入侵 了 中國政府 網站 、 農業 管理系統 、 煤礦安全 、 核電站 和 衛星 接口 等 ， 8 月間 在 維基百科 網頁 上 還有 大量 該 行動 相關 條目 ， 到 了 10 月份 已 被 刪減 為 區區 幾段 。 \\n \\n 刪除 的 原因 包括 涉嫌 違反 中立 觀點 政策 、 無法 驗證 和 「 來源 不 可靠 」 的 訊息 等 。 然而 ， 發起 刪除 的 編輯 之一 「 Chimney   Sweepa 」 ， 後來 被 發現 是 為 了 操縱 內容 而 偽裝成 其他人 的 「 馬甲 帳號 」 （   sock   puppet   account ） ， 也 就是 人頭 帳戶 。 \\n \\n 報導 中稱 ， 「 匿名者 」 代表 「 Allez - opi _ omi 」 表示 ， 該 組織 懷疑 這種 突然 的 任意 編輯 行為 ， 是 中國 利用 維基百科 現有 系統 偏見 以 發揮 影響力 的 一環 。 例如 ， 在 中國 國慶日 （ 10 月 1 日 ） ， 據稱 是 「 中國 五毛 」 的 維基百科 用戶 「 Genabab 」 ， 便將 台灣 的 身份 從 國家 更改 為 「 部分 承認 的 國家 」 。 「 匿名者 」 強調 ， 中國 用人 頭 帳戶 干涉 維基百科 條目 ， 是 不可 容忍 的 。'"
            ],
            "application/vnd.google.colaboratory.intrinsic+json": {
              "type": "string"
            }
          },
          "metadata": {},
          "execution_count": 7
        }
      ]
    }
  ]
}