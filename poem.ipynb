{
  "nbformat": 4,
  "nbformat_minor": 0,
  "metadata": {
    "colab": {
      "provenance": [],
      "authorship_tag": "ABX9TyO0XNKaIP/jQNST1SMWHWiD",
      "include_colab_link": true
    },
    "kernelspec": {
      "name": "python3",
      "display_name": "Python 3"
    },
    "language_info": {
      "name": "python"
    }
  },
  "cells": [
    {
      "cell_type": "markdown",
      "metadata": {
        "id": "view-in-github",
        "colab_type": "text"
      },
      "source": [
        "<a href=\"https://colab.research.google.com/github/Elwing-Chou/tibaml1017/blob/main/poem.ipynb\" target=\"_parent\"><img src=\"https://colab.research.google.com/assets/colab-badge.svg\" alt=\"Open In Colab\"/></a>"
      ]
    },
    {
      "cell_type": "code",
      "execution_count": 6,
      "metadata": {
        "colab": {
          "base_uri": "https://localhost:8080/"
        },
        "id": "WpkRfINOR-Og",
        "outputId": "8487b02c-5d67-470d-c2e3-b3a3e7b1acba"
      },
      "outputs": [
        {
          "output_type": "execute_result",
          "data": {
            "text/plain": [
              "('test.csv', <http.client.HTTPMessage at 0x7f7fdad37510>)"
            ]
          },
          "metadata": {},
          "execution_count": 6
        }
      ],
      "source": [
        "from urllib.request import urlretrieve\n",
        "url = \"https://github.com/Elwing-Chou/tibaml1017/raw/main/poem_train.csv\"\n",
        "urlretrieve(url, \"train.csv\")\n",
        "url = \"https://github.com/Elwing-Chou/tibaml1017/raw/main/poem_test.csv\"\n",
        "urlretrieve(url, \"test.csv\")"
      ]
    },
    {
      "cell_type": "code",
      "source": [
        "import pandas as pd\n",
        "train_df = pd.read_csv(\"train.csv\", encoding=\"utf-8\")\n",
        "test_df = pd.read_csv(\"test.csv\", encoding=\"utf-8\")"
      ],
      "metadata": {
        "id": "DWGN0vRKSgtF"
      },
      "execution_count": 7,
      "outputs": []
    },
    {
      "cell_type": "code",
      "source": [
        "test_df"
      ],
      "metadata": {
        "id": "LH8E-RPnSqHc"
      },
      "execution_count": null,
      "outputs": []
    },
    {
      "cell_type": "code",
      "source": [
        "# 進到所有的函式庫之前, 全部數字\n",
        "# Series.value_counts/unique\n",
        "# Series.replace(字典)  {\"李白\":0, \"杜甫\":1, \"白居易\":2}\n",
        "poets = train_df[\"作者\"].unique()\n",
        "# poet2idx = {}\n",
        "# for i in range(len(poets)):\n",
        "#     poet2idx[poets[i]] = i\n",
        "poet2idx = {poets[i]:i for i in range(len(poets))}\n",
        "idx2poet = {i:poets[i] for i in range(len(poets))}\n",
        "poet2idx"
      ],
      "metadata": {
        "colab": {
          "base_uri": "https://localhost:8080/"
        },
        "id": "PiyPGthjrxfL",
        "outputId": "9cc2ca81-9c5c-4571-e76c-72d9e39d6742"
      },
      "execution_count": 23,
      "outputs": [
        {
          "output_type": "execute_result",
          "data": {
            "text/plain": [
              "{'李白': 0, '杜甫': 1, '白居易': 2}"
            ]
          },
          "metadata": {},
          "execution_count": 23
        }
      ]
    },
    {
      "cell_type": "code",
      "source": [
        "import numpy as np\n",
        "y_train = np.array(train_df[\"作者\"].replace(poet2idx))\n",
        "y_test = np.array(test_df[\"作者\"].replace(poet2idx))\n",
        "y_test"
      ],
      "metadata": {
        "colab": {
          "base_uri": "https://localhost:8080/"
        },
        "id": "m-UTaNZCxmg9",
        "outputId": "1b7de4f2-afee-48a5-94e4-c3b7ad3ea527"
      },
      "execution_count": 27,
      "outputs": [
        {
          "output_type": "execute_result",
          "data": {
            "text/plain": [
              "array([0, 0, 0, 0, 0, 0, 0, 0, 0, 0, 1, 1, 1, 1, 1, 1, 1, 1, 1, 1, 2, 2,\n",
              "       2, 2, 2, 2, 2, 2, 2, 2])"
            ]
          },
          "metadata": {},
          "execution_count": 27
        }
      ]
    },
    {
      "cell_type": "code",
      "source": [
        "# 型態 + 操作\n",
        "# list + [idx]\n",
        "# dict + [key]\n",
        "# print(\"hello\") print:(步驟)型態 (\"hello\"):(執行)操作\n",
        "b = abs\n",
        "b(-5.23)\n",
        "def test(n):\n",
        "    if n == 0:\n",
        "        return np.array\n",
        "    elif n == 1:\n",
        "        return pd.Series\n",
        "    else:\n",
        "        return list\n",
        "test(2)([1, 2, 3, 4])"
      ],
      "metadata": {
        "colab": {
          "base_uri": "https://localhost:8080/"
        },
        "id": "aa9Rvr_Wzx8L",
        "outputId": "ecb475e2-3511-47ab-cb53-328c666af1dd"
      },
      "execution_count": 37,
      "outputs": [
        {
          "output_type": "execute_result",
          "data": {
            "text/plain": [
              "[1, 2, 3, 4]"
            ]
          },
          "metadata": {},
          "execution_count": 37
        }
      ]
    }
  ]
}